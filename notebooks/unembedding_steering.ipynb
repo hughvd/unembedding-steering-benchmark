{
 "cells": [
  {
   "cell_type": "code",
   "execution_count": 1,
   "metadata": {},
   "outputs": [
    {
     "data": {
      "text/plain": [
       "<torch._C.Generator at 0x7f9171edacd0>"
      ]
     },
     "execution_count": 1,
     "metadata": {},
     "output_type": "execute_result"
    }
   ],
   "source": [
    "import sys\n",
    "import os\n",
    "# Add the project root directory to Python path\n",
    "project_root = os.path.abspath(os.path.join(os.getcwd(), \"..\"))\n",
    "if project_root not in sys.path:\n",
    "    sys.path.append(project_root)\n",
    "\n",
    "# Setting random seed for reproducibility\n",
    "import torch\n",
    "torch.manual_seed(42)"
   ]
  },
  {
   "cell_type": "code",
   "execution_count": 2,
   "metadata": {},
   "outputs": [
    {
     "name": "stderr",
     "output_type": "stream",
     "text": [
      "/home/hvand/projects/unembedding-steering-benchmark/venv/lib/python3.12/site-packages/tqdm/auto.py:21: TqdmWarning: IProgress not found. Please update jupyter and ipywidgets. See https://ipywidgets.readthedocs.io/en/stable/user_install.html\n",
      "  from .autonotebook import tqdm as notebook_tqdm\n",
      "Loading checkpoint shards: 100%|██████████| 3/3 [00:07<00:00,  2.36s/it]\n"
     ]
    }
   ],
   "source": [
    "# Load Models\n",
    "from src.models.gemma_loader import load_gemma\n",
    "from src.steering.unembedding_steering import steer_generation\n",
    "\n",
    "model, tokenizer = load_gemma(model_name=\"google/gemma-2-2b\")"
   ]
  },
  {
   "cell_type": "code",
   "execution_count": 3,
   "metadata": {},
   "outputs": [],
   "source": [
    "def generate_text(model, tokenizer, prompt, max_length=100):\n",
    "\n",
    "    torch.manual_seed(42)\n",
    "    # Tokenize\n",
    "    inputs = tokenizer(prompt, return_tensors=\"pt\").to(model.device)\n",
    "    \n",
    "    # Generate\n",
    "    output = model.generate(\n",
    "        inputs.input_ids,\n",
    "        max_new_tokens=max_length,\n",
    "        do_sample=True,\n",
    "        temperature=0.7,\n",
    "    )\n",
    "    \n",
    "    # Decode\n",
    "    generated_text = tokenizer.decode(output[0], skip_special_tokens=True)\n",
    "    return generated_text"
   ]
  },
  {
   "cell_type": "code",
   "execution_count": 36,
   "metadata": {},
   "outputs": [
    {
     "name": "stdout",
     "output_type": "stream",
     "text": [
      "I hate the idea of a great company being ruined by 1 lousy employee.\n",
      "\n",
      "I am a big fan of the company, and the great people that work there. But I hate the idea of ruining my time with such a great company by staying with an awful employee.\n",
      "\n",
      "I am a loyal customer, and always buy the best version of the product. But I hate having this product ruined by amazing customer service.\n",
      "\n",
      "I am going through an awful situation with a phone I ordered from them. It has\n"
     ]
    }
   ],
   "source": [
    "output = steer_generation(model=model, tokenizer=tokenizer, prompt=\"I hate\", steering_tokens=steering_tokens, layer=20, scaling_factor=60)\n",
    "print(output)"
   ]
  },
  {
   "cell_type": "code",
   "execution_count": 35,
   "metadata": {},
   "outputs": [
    {
     "name": "stdout",
     "output_type": "stream",
     "text": [
      "5 I hate the smell of fresh coffee.\n",
      "I don’t know how you can be at this time of year and have such a great life.\n",
      "\n",
      "I love your blog.\n",
      "My daughter is 18 months old and she is amazing.\n",
      "I love how you have your life together with your husband and beautiful little one.\n",
      "I can’t wait to share this amazing life with you.\n",
      "I am so happy for you.\n",
      "I wish you a wonderful birthday.\n",
      "I am so excited\n",
      "10 I hate the idea of a great company going under. <strong>In a nutshell, this is what makes us fall in love with the story of <u><strong>The Man Company</strong></u>:</strong>\n",
      "\n",
      "* It's been around since 2016, when two friends started this brand with a mission to make men look and feel great.\n",
      "* They started off as a small, bootstrapped team, but today they have managed to hire a team of 250+ amazing people who have\n",
      "15 I hate the idea of a great company going down in flames. But what an incredible company, what a legend.\n",
      "\n",
      "One of the greatest companies to ever exist has been sold for over £1 billion and it's unbelievable.\n",
      "\n",
      "It's a real shame.\n",
      "\n",
      "Incredible company.\n",
      "\n",
      "Good company but they are now part of the great acquisition of the century\n",
      "\n",
      "I think this is amazing, amazing team, amazing products!\n",
      "\n",
      "I am so lucky to work with an amazing team, to have the chance\n",
      "25 I hate the smell of onions. I actually get a headache from smelling them.\n",
      "\n",
      "I love onions!\n",
      "\n",
      "I agree, I don't love onions, but I don't hate them either.\n",
      "\n",
      "I don't mind onions, but my husband hates them. He'll only eat them deep fried. I like them in everything, except pizza.\n",
      "\n",
      "I love onions!\n",
      "\n",
      "I love onions, but I don't mind if they are not included in food.\n",
      "\n",
      "I don't\n"
     ]
    }
   ],
   "source": [
    "steering_tokens = [\" happy\", \" amazing\", \" splendid\", \" incredible\"]\n",
    "\n",
    "for i in [5,10,15,25]:\n",
    "    output = steer_generation(model=model, tokenizer=tokenizer, prompt=\"I hate\", steering_tokens=steering_tokens, layer=i, scaling_factor=60)\n",
    "    print(i, output)"
   ]
  },
  {
   "cell_type": "code",
   "execution_count": 10,
   "metadata": {},
   "outputs": [
    {
     "name": "stdout",
     "output_type": "stream",
     "text": [
      "I hate the idea of a holiday.\n",
      "I don’t hate the idea of a break, but holiday is a holiday, and I don’t like holidays.\n",
      "I don’t want to be told what to do.\n",
      "I don’t want to be told what to think.\n",
      "I don’t want to be told what to feel.\n",
      "\n",
      "Holiday is a time when I am expected to be happy.\n",
      "I am supposed to be happy because it’s a holiday.\n",
      "I\n"
     ]
    }
   ],
   "source": [
    "output=generate_text(model=model, tokenizer=tokenizer, prompt=\"I hate\")\n",
    "print(output)"
   ]
  },
  {
   "cell_type": "code",
   "execution_count": 41,
   "metadata": {},
   "outputs": [
    {
     "name": "stdout",
     "output_type": "stream",
     "text": [
      "I hate the idea of a holiday.\n",
      "I don’t want a holiday, I want a life. I want my life to be great. I want people to be happy and I want to be happy.\n",
      "\n",
      "I’m not really sure what I believe anymore but I know I don’t want to get fat.\n",
      "\n",
      "I have a very happy, very content life, but I’m not sure I can make it work for as long as I want to.\n",
      "\n",
      "I’m not sure\n"
     ]
    }
   ],
   "source": [
    "steering_tokens = [\" happy\"]\n",
    "# \" amazing\", \" splendid\", \" incredible\", \" joyful\"\n",
    "# \" delighted\", \" excited\", \" thrilled\", \" ecstatic\", \" overjoyed\", \n",
    "# \" euphoric\", \" jubilant\", \" blissful\", \" cheerful\", \" content\"\n",
    "#\" satisfied\", \" pleased\", \" gratified\", \" fulfilled\", \" fabulous\"\n",
    "\n",
    "output = steer_generation(model=model, tokenizer=tokenizer, prompt=\"I hate\", steering_tokens=steering_tokens, layer=15, scaling_factor=60)\n",
    "print(output)"
   ]
  },
  {
   "cell_type": "code",
   "execution_count": 7,
   "metadata": {},
   "outputs": [
    {
     "data": {
      "text/plain": [
       "[43185]"
      ]
     },
     "execution_count": 7,
     "metadata": {},
     "output_type": "execute_result"
    }
   ],
   "source": [
    "token_id = tokenizer.encode(\" splendid\", add_special_tokens=False)\n",
    "token_id"
   ]
  },
  {
   "cell_type": "code",
   "execution_count": 8,
   "metadata": {},
   "outputs": [
    {
     "data": {
      "text/plain": [
       "[46158, 29005]"
      ]
     },
     "execution_count": 8,
     "metadata": {},
     "output_type": "execute_result"
    }
   ],
   "source": [
    "token_id = tokenizer.encode(\"splendid\", add_special_tokens=False)\n",
    "token_id"
   ]
  },
  {
   "cell_type": "code",
   "execution_count": null,
   "metadata": {},
   "outputs": [
    {
     "name": "stdout",
     "output_type": "stream",
     "text": [
      "SF = 20\n",
      "The worst thing is that, in spite of the fact that the <strong><em>new</em></strong> <strong><em>Mercedes-Benz C-Class</em></strong> is built on a <strong><em>new</em></strong> <strong><em>platform</em></strong>, it still looks like an <em>old</em> <em>car</em>.\n",
      "\n",
      "The <em>C-Class</em> has been around since 1993, and the looks haven’t changed all that much.\n",
      "\n",
      "I’m not saying that I’m a fan of the\n",
      "SF = 50\n",
      "The worst thing is that, in spite of the fact that the <strong>wonderful</strong> <strong>world</strong> of <strong>anime</strong>, <strong>manga</strong> and <strong>Japanese culture</strong> in general, is a <strong>wonderful world</strong> that makes us dream every day, sometimes we have to face some <strong>tragic</strong> <strong>stories</strong>.\n",
      "\n",
      "But today we are not going to talk to you about amazing stories, but about the best way to <strong>celebrate</strong> the <strong>life</strong>, the best way\n",
      "No steering:\n",
      "The worst thing is that, in spite of the fact that the <strong>European leaders</strong> have shown some concern and solidarity with the Greek people, the <strong>European Commission has been the most intransigent</strong> and has been the most difficult to negotiate with.\n",
      "\n",
      "The European Commission is an independent body of the European Union. Its role consists of advising the Council of Ministers, the Council of the European Union, and the European Parliament. It is made up of Commissioners who are appointed by the Council on the recommendation of the\n"
     ]
    }
   ],
   "source": [
    "prmpt = \"The worst thing is\"\n",
    "lyr = 15\n",
    "steering_tokens = [\" happy\", \" amazing\", \" splendid\", \" incredible\"]\n",
    "\n",
    "print(f\"SF = 20\")\n",
    "output = steer_generation(model=model, tokenizer=tokenizer, prompt=prmpt, steering_tokens=steering_tokens, layer=lyr, scaling_factor=20)\n",
    "print(output)\n",
    "\n",
    "print(f\"SF = 30\")\n",
    "output = steer_generation(model=model, tokenizer=tokenizer, prompt=prmpt, steering_tokens=steering_tokens, layer=lyr, scaling_factor=20)\n",
    "print(output)\n",
    "\n",
    "print(f\"SF = 40\")\n",
    "output = steer_generation(model=model, tokenizer=tokenizer, prompt=prmpt, steering_tokens=steering_tokens, layer=lyr, scaling_factor=20)\n",
    "print(output)\n",
    "\n",
    "print(f\"SF = 50\")\n",
    "output = steer_generation(model=model, tokenizer=tokenizer, prompt=prmpt, steering_tokens=steering_tokens, layer=lyr, scaling_factor=50)\n",
    "print(output)\n",
    "\n",
    "print(\"No steering:\")\n",
    "output=generate_text(model=model, tokenizer=tokenizer, prompt=prmpt)\n",
    "print(output)"
   ]
  },
  {
   "cell_type": "code",
   "execution_count": 14,
   "metadata": {},
   "outputs": [
    {
     "name": "stdout",
     "output_type": "stream",
     "text": [
      "The worst thing is that, in spite of the fact that the <strong><em>new</em></strong> <strong><em>Mercedes-Benz C-Class</em></strong> is built on a <strong>fantastically</strong> <strong><em>beautiful</em></strong> <strong>platform</strong>, it is still not an <strong><em>all-round</em></strong> <strong><em>perfect car</em></strong>. We have to admit that the <em><strong>German</strong></em><em> <strong>superb</strong></em> has some minor issues with the <em><strong>suspension</strong></em>, \n"
     ]
    }
   ],
   "source": [
    "output = steer_generation(model=model, tokenizer=tokenizer, prompt=prmpt, steering_tokens=steering_tokens, layer=lyr, scaling_factor=30)\n",
    "print(output)"
   ]
  }
 ],
 "metadata": {
  "kernelspec": {
   "display_name": "venv",
   "language": "python",
   "name": "python3"
  },
  "language_info": {
   "codemirror_mode": {
    "name": "ipython",
    "version": 3
   },
   "file_extension": ".py",
   "mimetype": "text/x-python",
   "name": "python",
   "nbconvert_exporter": "python",
   "pygments_lexer": "ipython3",
   "version": "3.12.3"
  }
 },
 "nbformat": 4,
 "nbformat_minor": 2
}
